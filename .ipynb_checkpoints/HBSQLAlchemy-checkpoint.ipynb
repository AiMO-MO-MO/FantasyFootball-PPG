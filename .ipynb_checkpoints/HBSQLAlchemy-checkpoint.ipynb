{
 "cells": [
  {
   "cell_type": "code",
   "execution_count": 1,
   "id": "824b6cef",
   "metadata": {},
   "outputs": [
    {
     "name": "stderr",
     "output_type": "stream",
     "text": [
      "/var/folders/d2/rs9l0yts25jd2cswktf_sr9c0000gn/T/ipykernel_13652/3836882636.py:6: MovedIn20Warning: The ``declarative_base()`` function is now available as sqlalchemy.orm.declarative_base(). (deprecated since: 2.0) (Background on SQLAlchemy 2.0 at: https://sqlalche.me/e/b8d9)\n",
      "  Base = declarative_base()\n"
     ]
    }
   ],
   "source": [
    "from sqlalchemy import create_engine\n",
    "from sqlalchemy import Column, Integer, String, Float\n",
    "\n",
    "from sqlalchemy.ext.declarative import declarative_base\n",
    "# Create a base class for declarating class definitions to produce Table objects\n",
    "Base = declarative_base()"
   ]
  },
  {
   "cell_type": "code",
   "execution_count": 2,
   "id": "aad60504",
   "metadata": {},
   "outputs": [],
   "source": [
    "class FantasyFootball(Base):\n",
    "    __tablename__ = 'fantasydata'\n",
    "    \n",
    "    id = Column(Integer, primary_key=True)\n",
    "    Week = Column(Float)\n",
    "    Name = Column(String)\n",
    "    Position = Column(String)\n",
    "    Year = Column(Integer)\n",
    "    Game = Column(String)\n",
    "    FantasyPoints = Column(Integer)\n",
    "    PassingYards = Column(Float)\n",
    "    PassingTDs = Column(Float)\n",
    "    Ints = Column(Integer)\n",
    "    RushAttempts = Column(Integer)\n",
    "    RushYards = Column(Integer)\n",
    "    Fumbles = Column(Integer)\n",
    "    RushTDs = Column(Float)\n",
    "    Receptions = Column(Float)\n",
    "    ReceivingYards = Column(Float)\n",
    "    ReceivingTDs = Column(Float)"
   ]
  },
  {
   "cell_type": "code",
   "execution_count": 3,
   "id": "119a03e3",
   "metadata": {},
   "outputs": [],
   "source": [
    "engine = create_engine('sqlite:///football.db')\n",
    "Base.metadata.create_all(engine)"
   ]
  },
  {
   "cell_type": "code",
   "execution_count": 4,
   "id": "2e0162e6",
   "metadata": {},
   "outputs": [],
   "source": [
    "from sqlalchemy.orm import Session\n",
    "from sqlalchemy import func\n",
    "session = Session(bind=engine)"
   ]
  },
  {
   "cell_type": "code",
   "execution_count": 5,
   "id": "7cfe2f21",
   "metadata": {},
   "outputs": [],
   "source": [
    "results = session.query(FantasyFootball.Name, FantasyFootball.Week, func.sum(FantasyFootball.FantasyPoints).label('Fantasy_Points')) \\\n",
    "                 .filter(FantasyFootball.Position == 'RB') \\\n",
    "                 .group_by(FantasyFootball.Name, FantasyFootball.Week).order_by(FantasyFootball.Name,FantasyFootball.Week) \\\n",
    "                 .all()"
   ]
  },
  {
   "cell_type": "raw",
   "id": "df9119bd",
   "metadata": {},
   "source": []
  }
 ],
 "metadata": {
  "kernelspec": {
   "display_name": "Python 3 (ipykernel)",
   "language": "python",
   "name": "python3"
  },
  "language_info": {
   "codemirror_mode": {
    "name": "ipython",
    "version": 3
   },
   "file_extension": ".py",
   "mimetype": "text/x-python",
   "name": "python",
   "nbconvert_exporter": "python",
   "pygments_lexer": "ipython3",
   "version": "3.11.5"
  }
 },
 "nbformat": 4,
 "nbformat_minor": 5
}
