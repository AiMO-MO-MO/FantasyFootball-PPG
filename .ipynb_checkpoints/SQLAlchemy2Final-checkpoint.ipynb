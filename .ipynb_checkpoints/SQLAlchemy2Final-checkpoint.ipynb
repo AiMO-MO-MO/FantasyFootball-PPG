{
 "cells": [
  {
   "cell_type": "code",
   "execution_count": 1,
   "id": "2d061399",
   "metadata": {},
   "outputs": [
    {
     "name": "stderr",
     "output_type": "stream",
     "text": [
      "/var/folders/d2/rs9l0yts25jd2cswktf_sr9c0000gn/T/ipykernel_2339/3836882636.py:6: MovedIn20Warning: The ``declarative_base()`` function is now available as sqlalchemy.orm.declarative_base(). (deprecated since: 2.0) (Background on SQLAlchemy 2.0 at: https://sqlalche.me/e/b8d9)\n",
      "  Base = declarative_base()\n"
     ]
    }
   ],
   "source": [
    "from sqlalchemy import create_engine\n",
    "from sqlalchemy import Column, Integer, String, Float\n",
    "\n",
    "from sqlalchemy.ext.declarative import declarative_base\n",
    "# Create a base class for declarating class definitions to produce Table objects\n",
    "Base = declarative_base()"
   ]
  },
  {
   "cell_type": "code",
   "execution_count": 2,
   "id": "a1ffd4e4",
   "metadata": {},
   "outputs": [],
   "source": [
    "class FantasyFootball(Base):\n",
    "    __tablename__ = 'fantasydata'\n",
    "    \n",
    "    id = Column(Integer, primary_key=True)\n",
    "    Week = Column(Float)\n",
    "    Name = Column(String)\n",
    "    Position = Column(String)\n",
    "    Year = Column(Integer)\n",
    "    Game = Column(String)\n",
    "    FantasyPoints = Column(Integer)\n",
    "    PassingYards = Column(Float)\n",
    "    PassingTDs = Column(Float)\n",
    "    Ints = Column(Integer)\n",
    "    RushAttempts = Column(Integer)\n",
    "    RushYards = Column(Integer)\n",
    "    Fumbles = Column(Integer)\n",
    "    RushTDs = Column(Float)\n",
    "    Receptions = Column(Float)\n",
    "    ReceivingYards = Column(Float)\n",
    "    ReceivingTDs = Column(Float)\n",
    "    "
   ]
  },
  {
   "cell_type": "code",
   "execution_count": 3,
   "id": "1ee4b424",
   "metadata": {},
   "outputs": [],
   "source": [
    "engine = create_engine('sqlite:///Final.db')\n",
    "Base.metadata.create_all(engine)"
   ]
  },
  {
   "cell_type": "code",
   "execution_count": 4,
   "id": "6873ce5a",
   "metadata": {},
   "outputs": [],
   "source": [
    "from sqlalchemy.orm import Session\n",
    "from sqlalchemy import func\n",
    "session = Session(bind=engine)"
   ]
  },
  {
   "cell_type": "code",
   "execution_count": 5,
   "id": "4f618e39",
   "metadata": {},
   "outputs": [],
   "source": [
    "results = session.query(FantasyFootball.Name, FantasyFootball.Week, func.sum(FantasyFootball.FantasyPoints).label('Fantasy_Points')) \\\n",
    "                 .filter(FantasyFootball.Position == 'QB') \\\n",
    "                 .group_by(FantasyFootball.Name, FantasyFootball.Week) \\\n",
    "                 .all()"
   ]
  },
  {
   "cell_type": "code",
   "execution_count": 6,
   "id": "a832f024",
   "metadata": {},
   "outputs": [],
   "source": [
    "for r in results:\n",
    "    print(r.Name)\n",
    "    print(r.Week)\n",
    "    print(r.Fantasy_Points)"
   ]
  },
  {
   "cell_type": "code",
   "execution_count": 7,
   "id": "e39e5d8d",
   "metadata": {},
   "outputs": [],
   "source": [
    "weeks = ['1','2','3','4','5','6','7','8','9','10','11','12','13','14','15','16','17','18']"
   ]
  },
  {
   "cell_type": "code",
   "execution_count": 8,
   "id": "f4362a58",
   "metadata": {},
   "outputs": [],
   "source": [
    "names = []"
   ]
  },
  {
   "cell_type": "code",
   "execution_count": 9,
   "id": "13b92190",
   "metadata": {},
   "outputs": [],
   "source": [
    "for r in results:\n",
    "    # Check if the item is not already in the unique list\n",
    "    if r not in results:\n",
    "        # Append the item to the unique list\n",
    "        names.append(r)"
   ]
  },
  {
   "cell_type": "code",
   "execution_count": 10,
   "id": "4c09e047",
   "metadata": {},
   "outputs": [
    {
     "data": {
      "text/plain": [
       "[]"
      ]
     },
     "execution_count": 10,
     "metadata": {},
     "output_type": "execute_result"
    }
   ],
   "source": [
    "names"
   ]
  },
  {
   "cell_type": "code",
   "execution_count": 11,
   "id": "363b80c5",
   "metadata": {},
   "outputs": [],
   "source": [
    "data = []"
   ]
  },
  {
   "cell_type": "code",
   "execution_count": 12,
   "id": "b2cc44d1",
   "metadata": {},
   "outputs": [
    {
     "ename": "SyntaxError",
     "evalue": "invalid syntax (839373211.py, line 4)",
     "output_type": "error",
     "traceback": [
      "\u001b[0;36m  Cell \u001b[0;32mIn[12], line 4\u001b[0;36m\u001b[0m\n\u001b[0;31m    data.\u001b[0m\n\u001b[0m         ^\u001b[0m\n\u001b[0;31mSyntaxError\u001b[0m\u001b[0;31m:\u001b[0m invalid syntax\n"
     ]
    }
   ],
   "source": [
    "for name in names:\n",
    "    if name not in uniquenames:\n",
    "        data.append(name)\n",
    "        data.\n",
    "        "
   ]
  },
  {
   "cell_type": "code",
   "execution_count": 13,
   "id": "98d4bb71",
   "metadata": {},
   "outputs": [
    {
     "ename": "NameError",
     "evalue": "name 'uniquenames' is not defined",
     "output_type": "error",
     "traceback": [
      "\u001b[0;31m---------------------------------------------------------------------------\u001b[0m",
      "\u001b[0;31mNameError\u001b[0m                                 Traceback (most recent call last)",
      "Cell \u001b[0;32mIn[13], line 1\u001b[0m\n\u001b[0;32m----> 1\u001b[0m uniquenames\n",
      "\u001b[0;31mNameError\u001b[0m: name 'uniquenames' is not defined"
     ]
    }
   ],
   "source": [
    "uniquenames"
   ]
  },
  {
   "cell_type": "code",
   "execution_count": null,
   "id": "0508b9ea",
   "metadata": {},
   "outputs": [],
   "source": [
    "data = []"
   ]
  },
  {
   "cell_type": "code",
   "execution_count": 14,
   "id": "f77ddb77",
   "metadata": {},
   "outputs": [],
   "source": [
    "for result in results:\n",
    "    if result.Name not in data:\n",
    "        data.append(result.Name)\n",
    "        data.append(f'Week: {result.Week}')\n",
    "        data.append(f'Points: {result.Fantasy_Points}')\n",
    "    else:\n",
    "        data.append(f' Week: {result.Week}')\n",
    "        data.append(f'Points: {result.Fantasy_Points}')\n",
    "        "
   ]
  },
  {
   "cell_type": "code",
   "execution_count": 15,
   "id": "05980344",
   "metadata": {},
   "outputs": [
    {
     "data": {
      "text/plain": [
       "[]"
      ]
     },
     "execution_count": 15,
     "metadata": {},
     "output_type": "execute_result"
    }
   ],
   "source": [
    "data"
   ]
  },
  {
   "cell_type": "code",
   "execution_count": 16,
   "id": "bc325531",
   "metadata": {},
   "outputs": [
    {
     "ename": "SyntaxError",
     "evalue": "incomplete input (1901767182.py, line 2)",
     "output_type": "error",
     "traceback": [
      "\u001b[0;36m  Cell \u001b[0;32mIn[16], line 2\u001b[0;36m\u001b[0m\n\u001b[0;31m    \u001b[0m\n\u001b[0m    ^\u001b[0m\n\u001b[0;31mSyntaxError\u001b[0m\u001b[0;31m:\u001b[0m incomplete input\n"
     ]
    }
   ],
   "source": [
    "\n",
    "for names in data:\n",
    "    "
   ]
  },
  {
   "cell_type": "code",
   "execution_count": 17,
   "id": "1aa6d470",
   "metadata": {},
   "outputs": [],
   "source": [
    "datalist = []"
   ]
  },
  {
   "cell_type": "code",
   "execution_count": 18,
   "id": "081f9fac",
   "metadata": {},
   "outputs": [],
   "source": [
    "letters_to_check = ['A','B', 'C', 'D', 'E', 'F', 'G', 'H', 'I', 'J','K', 'L', 'M', 'N', 'O', 'P','Q','R','S','T','U','V','W','X','Y','Z']"
   ]
  },
  {
   "cell_type": "code",
   "execution_count": 19,
   "id": "1963c40b",
   "metadata": {},
   "outputs": [],
   "source": [
    "listwithinlist = []"
   ]
  },
  {
   "cell_type": "code",
   "execution_count": null,
   "id": "ff74d31d",
   "metadata": {},
   "outputs": [],
   "source": []
  },
  {
   "cell_type": "code",
   "execution_count": 20,
   "id": "74067a23",
   "metadata": {},
   "outputs": [],
   "source": [
    "session.close()"
   ]
  },
  {
   "cell_type": "code",
   "execution_count": null,
   "id": "ce869aad",
   "metadata": {},
   "outputs": [],
   "source": []
  },
  {
   "cell_type": "code",
   "execution_count": null,
   "id": "c68a3d06",
   "metadata": {},
   "outputs": [],
   "source": []
  }
 ],
 "metadata": {
  "kernelspec": {
   "display_name": "Python 3 (ipykernel)",
   "language": "python",
   "name": "python3"
  },
  "language_info": {
   "codemirror_mode": {
    "name": "ipython",
    "version": 3
   },
   "file_extension": ".py",
   "mimetype": "text/x-python",
   "name": "python",
   "nbconvert_exporter": "python",
   "pygments_lexer": "ipython3",
   "version": "3.11.5"
  }
 },
 "nbformat": 4,
 "nbformat_minor": 5
}
