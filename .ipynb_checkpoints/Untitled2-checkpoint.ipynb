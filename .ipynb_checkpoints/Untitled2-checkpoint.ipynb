{
 "cells": [
  {
   "cell_type": "code",
   "execution_count": 1,
   "id": "ba6732e1",
   "metadata": {},
   "outputs": [],
   "source": [
    "from pathlib import Path\n",
    "import pandas as pd"
   ]
  },
  {
   "cell_type": "code",
   "execution_count": 6,
   "id": "9a1e2359",
   "metadata": {},
   "outputs": [],
   "source": [
    "Complete = Path('ThisSholdbethefinalONe.csv')\n"
   ]
  },
  {
   "cell_type": "code",
   "execution_count": 7,
   "id": "631a24bd",
   "metadata": {},
   "outputs": [],
   "source": [
    "CompleteDF = pd.read_csv(Complete)"
   ]
  },
  {
   "cell_type": "code",
   "execution_count": 8,
   "id": "adb5591b",
   "metadata": {},
   "outputs": [
    {
     "name": "stdout",
     "output_type": "stream",
     "text": [
      "<class 'pandas.core.frame.DataFrame'>\n",
      "RangeIndex: 19979 entries, 0 to 19978\n",
      "Data columns (total 17 columns):\n",
      " #   Column           Non-Null Count  Dtype  \n",
      "---  ------           --------------  -----  \n",
      " 0   Unnamed: 0       19979 non-null  int64  \n",
      " 1   Week             19977 non-null  float64\n",
      " 2   Name             19979 non-null  object \n",
      " 3   Position         19979 non-null  object \n",
      " 4   Year             19979 non-null  int64  \n",
      " 5   Game             19979 non-null  object \n",
      " 6   Fantasy Points   19979 non-null  float64\n",
      " 7   PassingYards     19979 non-null  float64\n",
      " 8   PassingTDs       19979 non-null  float64\n",
      " 9   Ints             19979 non-null  int64  \n",
      " 10  Rush Attempts    19979 non-null  int64  \n",
      " 11  Rush Yards       19979 non-null  int64  \n",
      " 12  Fumbles          19979 non-null  int64  \n",
      " 13  RushTDs          19979 non-null  int64  \n",
      " 14  Receptions       16781 non-null  float64\n",
      " 15  Receiving Yards  16781 non-null  float64\n",
      " 16  Receiving TDs    16781 non-null  float64\n",
      "dtypes: float64(7), int64(7), object(3)\n",
      "memory usage: 2.6+ MB\n"
     ]
    }
   ],
   "source": [
    "CompleteDF.info()"
   ]
  },
  {
   "cell_type": "code",
   "execution_count": null,
   "id": "40de2def",
   "metadata": {},
   "outputs": [],
   "source": []
  }
 ],
 "metadata": {
  "kernelspec": {
   "display_name": "Python 3 (ipykernel)",
   "language": "python",
   "name": "python3"
  },
  "language_info": {
   "codemirror_mode": {
    "name": "ipython",
    "version": 3
   },
   "file_extension": ".py",
   "mimetype": "text/x-python",
   "name": "python",
   "nbconvert_exporter": "python",
   "pygments_lexer": "ipython3",
   "version": "3.11.5"
  }
 },
 "nbformat": 4,
 "nbformat_minor": 5
}
